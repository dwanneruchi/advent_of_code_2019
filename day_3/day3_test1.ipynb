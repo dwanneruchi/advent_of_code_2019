{
 "cells": [
  {
   "cell_type": "code",
   "execution_count": 52,
   "metadata": {},
   "outputs": [
    {
     "name": "stdout",
     "output_type": "stream",
     "text": [
      "Current location of V1 is [75, 0]\n",
      "Current location of V1 is [75, -30]\n",
      "Current location of V1 is [158, -30]\n",
      "Current location of V1 is [158, 53]\n",
      "Current location of V1 is [146, 53]\n",
      "Current location of V1 is [146, 4]\n",
      "Current location of V1 is [217, 4]\n",
      "Current location of V1 is [217, 11]\n",
      "Current location of V1 is [145, 11]\n"
     ]
    }
   ],
   "source": [
    "data_list = []\n",
    "\n",
    "with open('day3_test1.txt') as f:\n",
    "    for line in f:\n",
    "        data_list.append(line.split(','))\n",
    "\n",
    "vector_1 = data_list[0] # pull list out\n",
    "vector_2 = data_list[1]\n",
    "\n",
    "vector_1 = [(x[0],x[1:]) for x in vector_1] # convert to tuple with direction & magnitude\n",
    "vector_2 = [(x[0],x[1:]) for x in vector_2]\n",
    "\n",
    "v1_pos = [0,0]\n",
    "\n",
    "v1_pos_dict = {}\n",
    "v1_pos_dict[0] = [0,0]\n",
    "for pos in range(len(vector_1)):\n",
    "   \n",
    "    # determine the step\n",
    "   \n",
    "    # Horizontals\n",
    "    if vector_1[pos][0] == 'L':\n",
    "        v1_pos[0] = v1_pos[0] + -1*int(vector_1[pos][1])\n",
    "   \n",
    "    elif vector_1[pos][0] == 'R':\n",
    "        v1_pos[0] = v1_pos[0] + 1*int(vector_1[pos][1])    \n",
    "\n",
    "    elif vector_1[pos][0] == 'D':\n",
    "        v1_pos[1] = v1_pos[1] + -1*int(vector_1[pos][1])\n",
    "   \n",
    "    else:\n",
    "        v1_pos[1] = v1_pos[1] + 1*int(vector_1[pos][1])\n",
    "   \n",
    "    # add to dict\n",
    "    v1_pos_dict[pos+1] = [v1_pos[0], v1_pos[1]]\n",
    "   \n",
    "    print(f\"Current location of V1 is {v1_pos}\")"
   ]
  },
  {
   "cell_type": "code",
   "execution_count": 53,
   "metadata": {},
   "outputs": [
    {
     "data": {
      "text/plain": [
       "{0: [0, 0],\n",
       " 1: [75, 0],\n",
       " 2: [75, -30],\n",
       " 3: [158, -30],\n",
       " 4: [158, 53],\n",
       " 5: [146, 53],\n",
       " 6: [146, 4],\n",
       " 7: [217, 4],\n",
       " 8: [217, 11],\n",
       " 9: [145, 11]}"
      ]
     },
     "execution_count": 53,
     "metadata": {},
     "output_type": "execute_result"
    }
   ],
   "source": [
    "v1_pos_dict"
   ]
  },
  {
   "cell_type": "code",
   "execution_count": 54,
   "metadata": {},
   "outputs": [
    {
     "name": "stdout",
     "output_type": "stream",
     "text": [
      "Current location of V2 is [0, 62]\n",
      "Current location of V2 is [66, 62]\n",
      "Current location of V2 is [66, 117]\n",
      "Current location of V2 is [100, 117]\n",
      "Current location of V2 is [100, 46]\n",
      "Current location of V2 is [155, 46]\n",
      "Current location of V2 is [155, -12]\n",
      "Current location of V2 is [238, -12]\n"
     ]
    }
   ],
   "source": [
    "vector_2 = [(x[0],x[1]) for x in vector_2]\n",
    "\n",
    "v2_pos = [0,0]\n",
    "\n",
    "v2_pos_dict = {}\n",
    "v2_pos_dict[0] = [0,0]\n",
    "\n",
    "for pos in range(len(vector_2)):\n",
    "   \n",
    "    # determine the step\n",
    "   \n",
    "    # Horizontals\n",
    "    if vector_2[pos][0] == 'L':\n",
    "        v2_pos[0] = v2_pos[0] + -1*int(vector_2[pos][1])\n",
    "   \n",
    "    elif vector_2[pos][0] == 'R':\n",
    "        v2_pos[0] = v2_pos[0] + 1*int(vector_2[pos][1])    \n",
    "\n",
    "    elif vector_2[pos][0] == 'D':\n",
    "        v2_pos[1] = v2_pos[1] + -1*int(vector_2[pos][1])\n",
    "   \n",
    "    else:\n",
    "        v2_pos[1] = v2_pos[1] + 1*int(vector_2[pos][1])\n",
    "   \n",
    "    # add to lsit\n",
    "    v2_pos_dict[pos+1] = [v2_pos[0], v2_pos[1]]\n",
    "   \n",
    "    print(f\"Current location of V2 is {v2_pos}\")"
   ]
  },
  {
   "cell_type": "code",
   "execution_count": 64,
   "metadata": {},
   "outputs": [],
   "source": [
    "def line_intersection(line1, line2):\n",
    "    xdiff = (line1[0][0] - line1[1][0], line2[0][0] - line2[1][0])\n",
    "    ydiff = (line1[0][1] - line1[1][1], line2[0][1] - line2[1][1])\n",
    "\n",
    "    def det(a, b):\n",
    "        return a[0] * b[1] - a[1] * b[0]\n",
    "\n",
    "    div = det(xdiff, ydiff)\n",
    "    if div == 0:\n",
    "        raise Exception('lines do not intersect')\n",
    "\n",
    "    d = (det(*line1), det(*line2))\n",
    "    x = det(d, xdiff) / div\n",
    "    y = det(d, ydiff) / div\n",
    "    return x, y"
   ]
  },
  {
   "cell_type": "code",
   "execution_count": 66,
   "metadata": {},
   "outputs": [
    {
     "data": {
      "text/plain": [
       "10"
      ]
     },
     "execution_count": 66,
     "metadata": {},
     "output_type": "execute_result"
    }
   ],
   "source": [
    "len(v1_pos_dict)"
   ]
  },
  {
   "cell_type": "code",
   "execution_count": 67,
   "metadata": {},
   "outputs": [
    {
     "ename": "KeyError",
     "evalue": "9",
     "output_type": "error",
     "traceback": [
      "\u001b[1;31m-------------------------------------------------------------------\u001b[0m",
      "\u001b[1;31mKeyError\u001b[0m                          Traceback (most recent call last)",
      "\u001b[1;32m<ipython-input-67-2fe3900a8aca>\u001b[0m in \u001b[0;36m<module>\u001b[1;34m\u001b[0m\n\u001b[0;32m      9\u001b[0m     \u001b[1;32mfor\u001b[0m \u001b[0mj\u001b[0m \u001b[1;32min\u001b[0m \u001b[0mrange\u001b[0m\u001b[1;33m(\u001b[0m\u001b[0mlen\u001b[0m\u001b[1;33m(\u001b[0m\u001b[0mv2_pos_dict\u001b[0m\u001b[1;33m)\u001b[0m\u001b[1;33m)\u001b[0m\u001b[1;33m:\u001b[0m\u001b[1;33m\u001b[0m\u001b[0m\n\u001b[0;32m     10\u001b[0m         \u001b[0mseg_ya\u001b[0m \u001b[1;33m=\u001b[0m \u001b[0mv2_pos_dict\u001b[0m\u001b[1;33m[\u001b[0m\u001b[0mi\u001b[0m\u001b[1;33m]\u001b[0m\u001b[1;33m\u001b[0m\u001b[0m\n\u001b[1;32m---> 11\u001b[1;33m         \u001b[0mseg_yb\u001b[0m \u001b[1;33m=\u001b[0m \u001b[0mv2_pos_dict\u001b[0m\u001b[1;33m[\u001b[0m\u001b[0mi\u001b[0m \u001b[1;33m+\u001b[0m \u001b[1;36m1\u001b[0m\u001b[1;33m]\u001b[0m\u001b[1;33m\u001b[0m\u001b[0m\n\u001b[0m\u001b[0;32m     12\u001b[0m         \u001b[0mx\u001b[0m\u001b[1;33m,\u001b[0m\u001b[0my\u001b[0m \u001b[1;33m=\u001b[0m \u001b[0mline_intersection\u001b[0m\u001b[1;33m(\u001b[0m\u001b[1;33m(\u001b[0m\u001b[0mseg_xa\u001b[0m\u001b[1;33m,\u001b[0m \u001b[0mseg_xb\u001b[0m\u001b[1;33m)\u001b[0m\u001b[1;33m,\u001b[0m \u001b[1;33m(\u001b[0m\u001b[0mseg_ya\u001b[0m\u001b[1;33m,\u001b[0m \u001b[0mseg_yb\u001b[0m\u001b[1;33m)\u001b[0m\u001b[1;33m)\u001b[0m\u001b[1;33m\u001b[0m\u001b[0m\n\u001b[0;32m     13\u001b[0m \u001b[1;33m\u001b[0m\u001b[0m\n",
      "\u001b[1;31mKeyError\u001b[0m: 9"
     ]
    }
   ],
   "source": [
    "x_final_list = []\n",
    "y_final_list = []\n",
    "\n",
    "for i in range(len(v1_pos_dict)):\n",
    "    \n",
    "    seg_xa = v1_pos_dict[i]\n",
    "    seg_xb = v1_pos_dict[i + 1]\n",
    "    \n",
    "    for j in range(len(v2_pos_dict)):\n",
    "        seg_ya = v2_pos_dict[i]\n",
    "        seg_yb = v2_pos_dict[i + 1]\n",
    "        x,y = line_intersection((seg_xa, seg_xb), (seg_ya, seg_yb))\n",
    "\n",
    "        # append\n",
    "        x_final_list.append(x)\n",
    "        y_final_list.append(y)"
   ]
  },
  {
   "cell_type": "code",
   "execution_count": 69,
   "metadata": {},
   "outputs": [
    {
     "data": {
      "text/plain": [
       "[0.0,\n",
       " 0.0,\n",
       " 0.0,\n",
       " 0.0,\n",
       " 0.0,\n",
       " 0.0,\n",
       " 0.0,\n",
       " 0.0,\n",
       " 0.0,\n",
       " 62.0,\n",
       " 62.0,\n",
       " 62.0,\n",
       " 62.0,\n",
       " 62.0,\n",
       " 62.0,\n",
       " 62.0,\n",
       " 62.0,\n",
       " 62.0,\n",
       " -30.0,\n",
       " -30.0,\n",
       " -30.0,\n",
       " -30.0,\n",
       " -30.0,\n",
       " -30.0,\n",
       " -30.0,\n",
       " -30.0,\n",
       " -30.0,\n",
       " 117.0,\n",
       " 117.0,\n",
       " 117.0,\n",
       " 117.0,\n",
       " 117.0,\n",
       " 117.0,\n",
       " 117.0,\n",
       " 117.0,\n",
       " 117.0,\n",
       " 53.0,\n",
       " 53.0,\n",
       " 53.0,\n",
       " 53.0,\n",
       " 53.0,\n",
       " 53.0,\n",
       " 53.0,\n",
       " 53.0,\n",
       " 53.0,\n",
       " 46.0,\n",
       " 46.0,\n",
       " 46.0,\n",
       " 46.0,\n",
       " 46.0,\n",
       " 46.0,\n",
       " 46.0,\n",
       " 46.0,\n",
       " 46.0,\n",
       " 4.0,\n",
       " 4.0,\n",
       " 4.0,\n",
       " 4.0,\n",
       " 4.0,\n",
       " 4.0,\n",
       " 4.0,\n",
       " 4.0,\n",
       " 4.0,\n",
       " -12.0,\n",
       " -12.0,\n",
       " -12.0,\n",
       " -12.0,\n",
       " -12.0,\n",
       " -12.0,\n",
       " -12.0,\n",
       " -12.0,\n",
       " -12.0]"
      ]
     },
     "execution_count": 69,
     "metadata": {},
     "output_type": "execute_result"
    }
   ],
   "source": [
    "y_final_list"
   ]
  },
  {
   "cell_type": "code",
   "execution_count": 17,
   "metadata": {},
   "outputs": [],
   "source": [
    "final_coords = zip(x_final_list, y_final_list)"
   ]
  },
  {
   "cell_type": "code",
   "execution_count": 18,
   "metadata": {},
   "outputs": [],
   "source": [
    "def manh_dist(x1,y1):\n",
    "    \n",
    "    return abs(x1-0) + abs(y1-0)"
   ]
  },
  {
   "cell_type": "code",
   "execution_count": 19,
   "metadata": {},
   "outputs": [],
   "source": [
    "manh_distance = {}\n",
    "for x,y in final_coords:\n",
    "    manh_distance[(x,y)] = manh_dist(x,y)"
   ]
  },
  {
   "cell_type": "code",
   "execution_count": 20,
   "metadata": {},
   "outputs": [
    {
     "data": {
      "text/plain": [
       "(75.0, 62.0)"
      ]
     },
     "execution_count": 20,
     "metadata": {},
     "output_type": "execute_result"
    }
   ],
   "source": [
    "min(manh_distance, key = manh_distance.get)"
   ]
  },
  {
   "cell_type": "code",
   "execution_count": 22,
   "metadata": {},
   "outputs": [
    {
     "data": {
      "text/plain": [
       "137.0"
      ]
     },
     "execution_count": 22,
     "metadata": {},
     "output_type": "execute_result"
    }
   ],
   "source": [
    "manh_distance[(75,62)]"
   ]
  },
  {
   "cell_type": "code",
   "execution_count": null,
   "metadata": {},
   "outputs": [],
   "source": []
  }
 ],
 "metadata": {
  "kernelspec": {
   "display_name": "Python 3",
   "language": "python",
   "name": "python3"
  },
  "language_info": {
   "codemirror_mode": {
    "name": "ipython",
    "version": 3
   },
   "file_extension": ".py",
   "mimetype": "text/x-python",
   "name": "python",
   "nbconvert_exporter": "python",
   "pygments_lexer": "ipython3",
   "version": "3.6.5"
  }
 },
 "nbformat": 4,
 "nbformat_minor": 2
}
