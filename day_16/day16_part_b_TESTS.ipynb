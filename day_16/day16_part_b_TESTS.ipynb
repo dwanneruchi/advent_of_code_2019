{
 "cells": [
  {
   "cell_type": "markdown",
   "metadata": {},
   "source": [
    "### Attempting to Find Patterns: \n",
    "\n",
    "- As it stands my current solution won't work as it takes too long to implement. \n",
    "- Will need to identify a pattern & leverage this to solve properly\n",
    "\n",
    "- Going to test on this: `12345678`"
   ]
  },
  {
   "cell_type": "code",
   "execution_count": 36,
   "metadata": {},
   "outputs": [],
   "source": [
    "from itertools import cycle, islice\n",
    "import numpy as np \n",
    "def rebuild_base(row_num, base_pattern, num_rows):\n",
    "\n",
    "   \n",
    "    # multiply base by num row\n",
    "    updated_base = [[x] * row_num for x in base_pattern]\n",
    "   \n",
    "    # flatten into one list - should maintain order\n",
    "    flattened =  [item for sublist in updated_base for item in sublist]\n",
    "   \n",
    "    # make it large enough for length of input: we add one due to the shift\n",
    "    long_flat = list(islice(cycle(flattened), num_rows +1))\n",
    "   \n",
    "    # shift by 1\n",
    "    new_base = long_flat[1:]\n",
    "    \n",
    "    # limit by leading 0s: due to offset we have to subtract 1\n",
    "    new_base = new_base[row_num-1:]\n",
    "   \n",
    "    return tuple(new_base)"
   ]
  },
  {
   "cell_type": "code",
   "execution_count": 37,
   "metadata": {},
   "outputs": [
    {
     "data": {
      "text/plain": [
       "(1, 0, -1, 0, 1, 0, -1, 0)"
      ]
     },
     "execution_count": 37,
     "metadata": {},
     "output_type": "execute_result"
    }
   ],
   "source": [
    "rebuild_base(1, base_pattern, 8)"
   ]
  },
  {
   "cell_type": "code",
   "execution_count": 40,
   "metadata": {},
   "outputs": [],
   "source": [
    "# start in phase 1\n",
    "phase = 1\n",
    "\n",
    "# our base\n",
    "base_pattern = [0, 1, 0, -1]\n",
    "\n",
    "# starting signal:\n",
    "input_signal = '12345678'"
   ]
  },
  {
   "cell_type": "code",
   "execution_count": 122,
   "metadata": {},
   "outputs": [
    {
     "name": "stdout",
     "output_type": "stream",
     "text": [
      "11.1 ns ± 0.557 ns per loop (mean ± std. dev. of 7 runs, 100000000 loops each)\n"
     ]
    }
   ],
   "source": [
    "%timeit 3\n",
    "\n",
    "phase_dict = {}\n",
    "\n",
    "while phase < 101:\n",
    "    \n",
    "    \n",
    "    row_dict = {}\n",
    "    \n",
    "    input_list = []\n",
    "\n",
    "    # iterate over & generate proper list\n",
    "    for i in input_signal:\n",
    "\n",
    "        input_list.append(int(i))\n",
    "   \n",
    "    # get number of rows needed\n",
    "    num_rows = len(input_list)\n",
    "    \n",
    "    # convert to array for speed\n",
    "    input_list = np.asarray(input_list)\n",
    "   \n",
    "    # temp dict to store output\n",
    "    temp_dict = {}\n",
    "    \n",
    "    for row_num in range(1,num_rows+1):\n",
    "\n",
    "        # update base according to row num\n",
    "        new_base = rebuild_base(row_num, base_pattern, num_rows)\n",
    "\n",
    "        # zip with input list\n",
    "        row_sum = 0\n",
    "        row_list = []\n",
    "        \n",
    "        # all up to row_num -1 are 0. if row 1, then 1 leading 0; if row 2, then 2 leading 0; etc. \n",
    "        for x,y in zip(new_base, input_list[row_num-1:]):\n",
    "\n",
    "            row_sum += x*y\n",
    "            row_list.append((x,y))\n",
    "\n",
    "        # add sum to row dict\n",
    "        row_dict[row_num] = str(abs(row_sum))[-1]\n",
    "        \n",
    "        # update: I want to see the pattern, so storing as a new dict\n",
    "        temp_dict[row_num] = (row_list, str(abs(row_sum))[-1])\n",
    "        print(f\"{temp_dict[row_num]}\")\n",
    "        \n",
    "    input_signal = ''.join([val for val in row_dict.values()])\n",
    "    phase_dict[phase] = temp_dict\n",
    "    \n",
    "    print(f'Phase {phase} output signal first 8 digits is: {input_signal} ')\n",
    "    phase +=1 # increment by 1\n"
   ]
  },
  {
   "cell_type": "markdown",
   "metadata": {},
   "source": [
    "### Part 2: \n",
    "\n",
    "- Cleaned the previous code up slightly....also need to apply the offset....\n",
    "\n",
    "- Moving from Phase 5 to Phase 6 we see this...\n",
    "\n",
    "```\n",
    "Phase 5 output signal first 8 digits is: 02140178 \n",
    "([(1, 0), (0, 2), (-1, 1), (0, 4), (1, 0), (0, 1), (-1, 7), (0, 8)], '8')\n",
    "([(1, 2), (1, 1), (0, 4), (0, 0), (-1, 1), (-1, 7), (0, 8)], '5')\n",
    "([(1, 1), (1, 4), (1, 0), (0, 1), (0, 7), (0, 8)], '5')\n",
    "([(1, 4), (1, 0), (1, 1), (1, 7), (0, 8)], '2')\n",
    "([(1, 0), (1, 1), (1, 7), (1, 8)], '6')\n",
    "([(1, 1), (1, 7), (1, 8)], '6')\n",
    "([(1, 7), (1, 8)], '5')\n",
    "([(1, 8)], '8')\n",
    "```\n",
    "\n",
    "Bottom: \n",
    "\n",
    "- 8th row output = 8th  input (8 -> 8)\n",
    "- 7th row output = 8th input + 7th  input (15 -> 5)\n",
    "- 6th row output = 8th  + 7th  + 6th  input (16) -> 6\n",
    "- 5th row output = 8th  + 7th  + 6th  + 5th input (16) -> 6\n",
    "\n",
    "\n",
    "So, it seems like we can solve the bottom half very quickly? "
   ]
  },
  {
   "cell_type": "code",
   "execution_count": 64,
   "metadata": {},
   "outputs": [],
   "source": [
    "num_rows = 8\n",
    "import math"
   ]
  },
  {
   "cell_type": "code",
   "execution_count": 71,
   "metadata": {},
   "outputs": [
    {
     "name": "stdout",
     "output_type": "stream",
     "text": [
      "1\n",
      "2\n",
      "3\n",
      "4\n"
     ]
    }
   ],
   "source": [
    "for row_num in range(1,math.ceil((num_rows+1)/2)):\n",
    "    print(row_nu)"
   ]
  },
  {
   "cell_type": "code",
   "execution_count": 72,
   "metadata": {},
   "outputs": [
    {
     "name": "stdout",
     "output_type": "stream",
     "text": [
      "8\n",
      "7\n",
      "6\n",
      "5\n"
     ]
    }
   ],
   "source": [
    "for row_num in reversed(range(math.ceil((num_rows+1)/2), num_rows+1)):\n",
    "    print(row_num)"
   ]
  },
  {
   "cell_type": "code",
   "execution_count": 121,
   "metadata": {},
   "outputs": [
    {
     "name": "stdout",
     "output_type": "stream",
     "text": [
      "11.2 ns ± 0.987 ns per loop (mean ± std. dev. of 7 runs, 100000000 loops each)\n",
      "Phase 1 output signal first 8 digits is: 48226158 \n",
      "Phase 2 output signal first 8 digits is: 34040438 \n",
      "Phase 3 output signal first 8 digits is: 03415518 \n",
      "Phase 4 output signal first 8 digits is: 01029498 \n",
      "Phase 5 output signal first 8 digits is: 02140178 \n",
      "Phase 6 output signal first 8 digits is: 85526658 \n",
      "Phase 7 output signal first 8 digits is: 41395938 \n",
      "Phase 8 output signal first 8 digits is: 38765018 \n",
      "Phase 9 output signal first 8 digits is: 04824998 \n",
      "Phase 10 output signal first 8 digits is: 36440678 \n",
      "Phase 11 output signal first 8 digits is: 83871158 \n",
      "Phase 12 output signal first 8 digits is: 45645438 \n",
      "Phase 13 output signal first 8 digits is: 04560518 \n",
      "Phase 14 output signal first 8 digits is: 63124498 \n",
      "Phase 15 output signal first 8 digits is: 09795178 \n",
      "Phase 16 output signal first 8 digits is: 98121658 \n",
      "Phase 17 output signal first 8 digits is: 42440938 \n",
      "Phase 18 output signal first 8 digits is: 36860018 \n",
      "Phase 19 output signal first 8 digits is: 63479998 \n",
      "Phase 20 output signal first 8 digits is: 21045678 \n",
      "Phase 21 output signal first 8 digits is: 02926158 \n",
      "Phase 22 output signal first 8 digits is: 85740438 \n",
      "Phase 23 output signal first 8 digits is: 25115518 \n",
      "Phase 24 output signal first 8 digits is: 50729498 \n",
      "Phase 25 output signal first 8 digits is: 26840178 \n",
      "Phase 26 output signal first 8 digits is: 36226658 \n",
      "Phase 27 output signal first 8 digits is: 23095938 \n",
      "Phase 28 output signal first 8 digits is: 49465018 \n",
      "Phase 29 output signal first 8 digits is: 42524998 \n",
      "Phase 30 output signal first 8 digits is: 61140678 \n",
      "Phase 31 output signal first 8 digits is: 21571158 \n",
      "Phase 32 output signal first 8 digits is: 70345438 \n",
      "Phase 33 output signal first 8 digits is: 64260518 \n",
      "Phase 34 output signal first 8 digits is: 30824498 \n",
      "Phase 35 output signal first 8 digits is: 05495178 \n",
      "Phase 36 output signal first 8 digits is: 61821658 \n",
      "Phase 37 output signal first 8 digits is: 62140938 \n",
      "Phase 38 output signal first 8 digits is: 29560018 \n",
      "Phase 39 output signal first 8 digits is: 43179998 \n",
      "Phase 40 output signal first 8 digits is: 34745678 \n",
      "Phase 41 output signal first 8 digits is: 62626158 \n",
      "Phase 42 output signal first 8 digits is: 12440438 \n",
      "Phase 43 output signal first 8 digits is: 61815518 \n",
      "Phase 44 output signal first 8 digits is: 23429498 \n",
      "Phase 45 output signal first 8 digits is: 26540178 \n",
      "Phase 46 output signal first 8 digits is: 03926658 \n",
      "Phase 47 output signal first 8 digits is: 81795938 \n",
      "Phase 48 output signal first 8 digits is: 34165018 \n",
      "Phase 49 output signal first 8 digits is: 64224998 \n",
      "Phase 50 output signal first 8 digits is: 12840678 \n",
      "Phase 51 output signal first 8 digits is: 43271158 \n",
      "Phase 52 output signal first 8 digits is: 21045438 \n",
      "Phase 53 output signal first 8 digits is: 46960518 \n",
      "Phase 54 output signal first 8 digits is: 69524498 \n",
      "Phase 55 output signal first 8 digits is: 41195178 \n",
      "Phase 56 output signal first 8 digits is: 16521658 \n",
      "Phase 57 output signal first 8 digits is: 80840938 \n",
      "Phase 58 output signal first 8 digits is: 34260018 \n",
      "Phase 59 output signal first 8 digits is: 05879998 \n",
      "Phase 60 output signal first 8 digits is: 85445678 \n",
      "Phase 61 output signal first 8 digits is: 24326158 \n",
      "Phase 62 output signal first 8 digits is: 01140438 \n",
      "Phase 63 output signal first 8 digits is: 45515518 \n",
      "Phase 64 output signal first 8 digits is: 34129498 \n",
      "Phase 65 output signal first 8 digits is: 28240178 \n",
      "Phase 66 output signal first 8 digits is: 72626658 \n",
      "Phase 67 output signal first 8 digits is: 23495938 \n",
      "Phase 68 output signal first 8 digits is: 05865018 \n",
      "Phase 69 output signal first 8 digits is: 42924998 \n",
      "Phase 70 output signal first 8 digits is: 07540678 \n",
      "Phase 71 output signal first 8 digits is: 21971158 \n",
      "Phase 72 output signal first 8 digits is: 14745438 \n",
      "Phase 73 output signal first 8 digits is: 44660518 \n",
      "Phase 74 output signal first 8 digits is: 34224498 \n",
      "Phase 75 output signal first 8 digits is: 47895178 \n",
      "Phase 76 output signal first 8 digits is: 67221658 \n",
      "Phase 77 output signal first 8 digits is: 02540938 \n",
      "Phase 78 output signal first 8 digits is: 85960018 \n",
      "Phase 79 output signal first 8 digits is: 23579998 \n",
      "Phase 80 output signal first 8 digits is: 30145678 \n",
      "Phase 81 output signal first 8 digits is: 02026158 \n",
      "Phase 82 output signal first 8 digits is: 14840438 \n",
      "Phase 83 output signal first 8 digits is: 05215518 \n",
      "Phase 84 output signal first 8 digits is: 21829498 \n",
      "Phase 85 output signal first 8 digits is: 64940178 \n",
      "Phase 86 output signal first 8 digits is: 05326658 \n",
      "Phase 87 output signal first 8 digits is: 23195938 \n",
      "Phase 88 output signal first 8 digits is: 38565018 \n",
      "Phase 89 output signal first 8 digits is: 22624998 \n",
      "Phase 90 output signal first 8 digits is: 90240678 \n",
      "Phase 91 output signal first 8 digits is: 01671158 \n",
      "Phase 92 output signal first 8 digits is: 01445438 \n",
      "Phase 93 output signal first 8 digits is: 22360518 \n",
      "Phase 94 output signal first 8 digits is: 21924498 \n",
      "Phase 95 output signal first 8 digits is: 23595178 \n",
      "Phase 96 output signal first 8 digits is: 50921658 \n",
      "Phase 97 output signal first 8 digits is: 82240938 \n",
      "Phase 98 output signal first 8 digits is: 38660018 \n",
      "Phase 99 output signal first 8 digits is: 43279998 \n",
      "Phase 100 output signal first 8 digits is: 23845678 \n"
     ]
    }
   ],
   "source": [
    "%timeit 3\n",
    "\n",
    "# start in phase 1\n",
    "phase = 1\n",
    "\n",
    "# our base\n",
    "base_pattern = [0, 1, 0, -1]\n",
    "\n",
    "# starting signal:\n",
    "input_signal = '12345678'\n",
    "\n",
    "phase_dict = {}\n",
    "\n",
    "while phase < 101:\n",
    "    \n",
    "    \n",
    "    row_dict = {}\n",
    "    \n",
    "    input_list = []\n",
    "\n",
    "    # iterate over & generate proper list\n",
    "    for i in input_signal:\n",
    "\n",
    "        input_list.append(int(i))\n",
    "   \n",
    "    # get number of rows needed\n",
    "    num_rows = len(input_list)\n",
    "    \n",
    "    # convert to array for speed\n",
    "    input_list = np.asarray(input_list)\n",
    "    \n",
    "    for row_num in range(1,math.ceil((num_rows+1)/2)):\n",
    "\n",
    "        # update base according to row num\n",
    "        new_base = rebuild_base(row_num, base_pattern, num_rows)\n",
    "\n",
    "        # zip with input list\n",
    "        row_sum = 0\n",
    "        \n",
    "        # all up to row_num -1 are 0. if row 1, then 1 leading 0; if row 2, then 2 leading 0; etc. \n",
    "        for x,y in zip(new_base, input_list[row_num-1:]):\n",
    "\n",
    "            row_sum += x*y\n",
    "            row_list.append((x,y))\n",
    "\n",
    "        # add sum to row dict\n",
    "        row_dict[row_num] = str(abs(row_sum))[-1]\n",
    "        \n",
    "    for row_num in range(math.ceil((num_rows+1)/2), num_rows+1):\n",
    "\n",
    "        # second half we can just sum the values in list up to that point\n",
    "        row_dict[row_num] = str(abs(sum(input_list[row_num-1:])))[-1]\n",
    "        \n",
    "        \n",
    "    input_signal = ''.join([val for val in row_dict.values()])\n",
    "    phase_dict[phase] = temp_dict\n",
    "    \n",
    "    print(f'Phase {phase} output signal first 8 digits is: {input_signal} ')\n",
    "    phase +=1 # increment by 1\n"
   ]
  },
  {
   "cell_type": "markdown",
   "metadata": {},
   "source": [
    "#### Update to 1000 "
   ]
  },
  {
   "cell_type": "code",
   "execution_count": null,
   "metadata": {},
   "outputs": [],
   "source": []
  },
  {
   "cell_type": "code",
   "execution_count": 124,
   "metadata": {},
   "outputs": [],
   "source": [
    "# start in phase 1\n",
    "phase = 1\n",
    "\n",
    "# our base\n",
    "base_pattern = [0, 1, 0, -1]\n",
    "\n",
    "# starting signal:\n",
    "input_signal = '12345678'\n",
    "\n",
    "# generate signal copied 1000 times\n",
    "input_signal = input_signal * 1000"
   ]
  },
  {
   "cell_type": "code",
   "execution_count": 126,
   "metadata": {},
   "outputs": [
    {
     "name": "stdout",
     "output_type": "stream",
     "text": [
      "Phase 1 output signal first 8 digits is: 00400100402808507890286408824564528681102144214680205052018241486920456026824110338071866628778037002950826000605310602095502006135022425952806049400720668671800130408026887718886048046200551465300000222227863914017482200080024895449526295807606060642088864064196897584752251060004680680086240688196479487522875805528758282020202820244068628884020015849946714055040552235849966792206000402060004020608222624282226242822269081180756477463120330223368174011469528992473067808280808082808080828080808280666042482226080488826460444820260322138499887940554435061100916277665720635221928574431407966536291887584130097063506400202064002020640020206400202064002020640020206464624044868462660806848820280600424028226462404486846266080686352893029184596857401524130671807962374635289302918459685740152413067180013069146796257023528136891847924574035801306914679625702352813689184792457403580130691446404040464040404640404046404040464040404640404046404040464040404640404046404040464040404640404046404040464040404846888026246668040244468280222460680002484688802624666804024446828022246068000248468880262466680402444682802224606800024846888026246668040244481500950471665160372217269388738259443948150095047166516037221726938873825944394815009504716651603722172693887382594439481500950471665160372217269388738259443948150095047166516037221726938877188592871885928718859287188592871885928718859287188592871885928718859287188592871885928718859287188592871885928718859287188592871885928718859287188592871885928718859287188592871885928718859287188592871885928718859287188592871885928718859287188592871885928718859287182860602028606020286060202860602028606020286060202860602028606020286060202860602028606020286060202860602028606020286060202860602028606020286060202860602028606020286060202860602028606020286060202860602028606020286060202860602028606020286060202860602028606020286060202860602028606020286060202860602028606020286060202860602028606020286060202860602028606020286060202860602028606020286060202860602028606020408440268428846028622804620662480640068240844026842884602862280462066248064006824084402684288460286228046206624806400682408440268428846028622804620662480640068240844026842884602862280462066248064006824084402684288460286228046206624806400682408440268428846028622804620662480640068240844026842884602862280462066248064006824084402684288460286228046206624806400682408440268428846028622804620662480640068240844026842884602862280462066248064006824084402684288460286228046206624806400682408440268428846028622804620662480640068240844026842884602862280462066248064006824084402684288460286228046206624806400682408440268428846028622804620662480640068240844026842884602862280462005584596611401522770671883362374499289300558459661140152277067188336237449928930055845966114015227706718833623744992893005584596611401522770671883362374499289300558459661140152277067188336237449928930055845966114015227706718833623744992893005584596611401522770671883362374499289300558459661140152277067188336237449928930055845966114015227706718833623744992893005584596611401522770671883362374499289300558459661140152277067188336237449928930055845966114015227706718833623744992893005584596611401522770671883362374499289300558459661140152277067188336237449928930055845966114015227706718833623744992893005584596611401522770671883362374499289300558459661140152277067188336237449928930055845966114015227706718833623744992893005584596611401522770671883362374499289300558459661140152277067188336237449928930055845966114015227706718833623744992893005584596611401522770671883362374499289300558459661140152277067188336237449928930055845966114015227706718833623744992893005584596611401522770671883362374499289300558459661140152277067188336237449928930055845966114015227706718833623744992893005584596611401522770671883362374499289300558459661140152277067188336237449928930055845966114015227706718833623744992893005584596611401522770671883362374499289300558459661140152277067188336237449928930055845966114015227706718833623744992893005584596611400974059243184936875283702196271465306158097405924318493687528370219627146530615809740592431849368752837021962714653061580974059243184936875283702196271465306158097405924318493687528370219627146530615809740592431849368752837021962714653061580974059243184936875283702196271465306158097405924318493687528370219627146530615809740592431849368752837021962714653061580974059243184936875283702196271465306158097405924318493687528370219627146530615809740592431849368752837021962714653061580974059243184936875283702196271465306158097405924318493687528370219627146530615809740592431849368752837021962714653061580974059243184936875283702196271465306158097405924318493687528370219627146530615809740592431849368752837021962714653061580974059243184936875283702196271465306158097405924318493687528370219627146530615809740592431849368752837021962714653061580974059243184936875283702196271465306158097405924318493687528370219627146530615809740592431849368752837021962714653061580974059243184936875283702196271465306158097405924318493687528370219627146530615809740592431849368752837021962714653061580974059243184936875283702196271465306158097405924318493687528370219627146530615809740592431849368752837021962714653061580974059243184936875283702196271465306158097405924318493687528370219627146530615809740592431849368752837021962714653061580974059243184936875283702196271465306158097405924318493687528370219627146530615809740592431849368752837021962714653061580974059243184936875283702196271465306158097405924318493687528370219627146530615809740592431849368752837021962714653061580974059243184936875283702196271465306158097405924318493687528370219627146530615809740592431849368752837021962714653061580974059243184936875283702196271465306158097405924318493687528370219627146530615809740592431849368752837021962714653061580974059243184936875283702196271465306158097405924318493687528370219627146530615809740592431849368752837021962714653061580974059243184936875283702196271465306158097405924318493687528370219627146530615809740592431849368752837021962714653061580974059243184936875283702196271465306158097405924318493687528370219627146530615809740592431849368752837021962714653061580974059243184936875283702196271465306158097405924318493687528370219627146530615809740592431849368752837021962714653061580974059243184936875283702196271465306158097405924318493687528370219627146530615809740592431849368752837021962714653061580974059243184936875283702196271465306158097405924318493687528370219627146530615809740592431849368752837021962714653061580974059243184936875283702196271465306158097405924318493687528370219627146530615809740592431849368752837021962714653061580974059243184936875283702196271465306158097405924318493687528370219627146530615809740592431849368752837021962714653061580974059243184936875283702196271465306158097405924318493687528370219627146530615809740592431849368752837021962714653061580974059243184936875283702196271465306158097405924318493687528370219627146530615809740592431849368752837021962714653061580974059243184936875283702196271465306158097405924318493687528370219627146530615809740592431849368752837021962714653061580974059243184936875283702196271465306158097405924318493687528370219627146530615809740592431849368752837021962714653061580974059243184936875283702196271465306158097405924318493687528370219627146530615809740592431849368752837021962714653061580974059243184936875283702196271465306158097405924318493687528370219627146530615809740592431849368752837021962714653061580974059243184936875283702196271465306158097405924318493687528370219627146530615809740592431849368752837021962714653061580974059243184936875283702196271465306158097405924318493687528370219627146530615809740592431849368752837021962714653061580974059243184936875283702196271465306158097405924318493687528370219627146530615809740592431849368752837021962714653061580974059243184936875283702196271465306158097405924318493687528370219627146530615809740592431849368752837021962714653061580974059243184936875283702196271465306158 \n"
     ]
    },
    {
     "ename": "KeyboardInterrupt",
     "evalue": "",
     "output_type": "error",
     "traceback": [
      "\u001b[1;31m-------------------------------------------------------------------\u001b[0m",
      "\u001b[1;31mKeyboardInterrupt\u001b[0m                 Traceback (most recent call last)",
      "\u001b[1;32m<ipython-input-126-4b2a49ecaecc>\u001b[0m in \u001b[0;36m<module>\u001b[1;34m\u001b[0m\n\u001b[0;32m     22\u001b[0m \u001b[1;33m\u001b[0m\u001b[0m\n\u001b[0;32m     23\u001b[0m         \u001b[1;31m# update base according to row num\u001b[0m\u001b[1;33m\u001b[0m\u001b[1;33m\u001b[0m\u001b[0m\n\u001b[1;32m---> 24\u001b[1;33m         \u001b[0mnew_base\u001b[0m \u001b[1;33m=\u001b[0m \u001b[0mrebuild_base\u001b[0m\u001b[1;33m(\u001b[0m\u001b[0mrow_num\u001b[0m\u001b[1;33m,\u001b[0m \u001b[0mbase_pattern\u001b[0m\u001b[1;33m,\u001b[0m \u001b[0mnum_rows\u001b[0m\u001b[1;33m)\u001b[0m\u001b[1;33m\u001b[0m\u001b[0m\n\u001b[0m\u001b[0;32m     25\u001b[0m \u001b[1;33m\u001b[0m\u001b[0m\n\u001b[0;32m     26\u001b[0m         \u001b[1;31m# zip with input list\u001b[0m\u001b[1;33m\u001b[0m\u001b[1;33m\u001b[0m\u001b[0m\n",
      "\u001b[1;32m<ipython-input-36-f0143b2fa26b>\u001b[0m in \u001b[0;36mrebuild_base\u001b[1;34m(row_num, base_pattern, num_rows)\u001b[0m\n\u001b[0;32m      8\u001b[0m \u001b[1;33m\u001b[0m\u001b[0m\n\u001b[0;32m      9\u001b[0m     \u001b[1;31m# flatten into one list - should maintain order\u001b[0m\u001b[1;33m\u001b[0m\u001b[1;33m\u001b[0m\u001b[0m\n\u001b[1;32m---> 10\u001b[1;33m     \u001b[0mflattened\u001b[0m \u001b[1;33m=\u001b[0m  \u001b[1;33m[\u001b[0m\u001b[0mitem\u001b[0m \u001b[1;32mfor\u001b[0m \u001b[0msublist\u001b[0m \u001b[1;32min\u001b[0m \u001b[0mupdated_base\u001b[0m \u001b[1;32mfor\u001b[0m \u001b[0mitem\u001b[0m \u001b[1;32min\u001b[0m \u001b[0msublist\u001b[0m\u001b[1;33m]\u001b[0m\u001b[1;33m\u001b[0m\u001b[0m\n\u001b[0m\u001b[0;32m     11\u001b[0m \u001b[1;33m\u001b[0m\u001b[0m\n\u001b[0;32m     12\u001b[0m     \u001b[1;31m# make it large enough for length of input: we add one due to the shift\u001b[0m\u001b[1;33m\u001b[0m\u001b[1;33m\u001b[0m\u001b[0m\n",
      "\u001b[1;32m<ipython-input-36-f0143b2fa26b>\u001b[0m in \u001b[0;36m<listcomp>\u001b[1;34m(.0)\u001b[0m\n\u001b[0;32m      8\u001b[0m \u001b[1;33m\u001b[0m\u001b[0m\n\u001b[0;32m      9\u001b[0m     \u001b[1;31m# flatten into one list - should maintain order\u001b[0m\u001b[1;33m\u001b[0m\u001b[1;33m\u001b[0m\u001b[0m\n\u001b[1;32m---> 10\u001b[1;33m     \u001b[0mflattened\u001b[0m \u001b[1;33m=\u001b[0m  \u001b[1;33m[\u001b[0m\u001b[0mitem\u001b[0m \u001b[1;32mfor\u001b[0m \u001b[0msublist\u001b[0m \u001b[1;32min\u001b[0m \u001b[0mupdated_base\u001b[0m \u001b[1;32mfor\u001b[0m \u001b[0mitem\u001b[0m \u001b[1;32min\u001b[0m \u001b[0msublist\u001b[0m\u001b[1;33m]\u001b[0m\u001b[1;33m\u001b[0m\u001b[0m\n\u001b[0m\u001b[0;32m     11\u001b[0m \u001b[1;33m\u001b[0m\u001b[0m\n\u001b[0;32m     12\u001b[0m     \u001b[1;31m# make it large enough for length of input: we add one due to the shift\u001b[0m\u001b[1;33m\u001b[0m\u001b[1;33m\u001b[0m\u001b[0m\n",
      "\u001b[1;31mKeyboardInterrupt\u001b[0m: "
     ]
    }
   ],
   "source": [
    "phase_dict = {}\n",
    "\n",
    "while phase < 101:\n",
    "    \n",
    "    \n",
    "    row_dict = {}\n",
    "    \n",
    "    input_list = []\n",
    "\n",
    "    # iterate over & generate proper list\n",
    "    for i in input_signal:\n",
    "\n",
    "        input_list.append(int(i))\n",
    "   \n",
    "    # get number of rows needed\n",
    "    num_rows = len(input_list)\n",
    "    \n",
    "    # convert to array for speed\n",
    "    input_list = np.asarray(input_list)\n",
    "    \n",
    "    for row_num in range(1,math.ceil((num_rows+1)/2)):\n",
    "\n",
    "        # update base according to row num\n",
    "        new_base = rebuild_base(row_num, base_pattern, num_rows)\n",
    "\n",
    "        # zip with input list\n",
    "        row_sum = 0\n",
    "        \n",
    "        # all up to row_num -1 are 0. if row 1, then 1 leading 0; if row 2, then 2 leading 0; etc. \n",
    "        for x,y in zip(new_base, input_list[row_num-1:]):\n",
    "\n",
    "            row_sum += x*y\n",
    "            row_list.append((x,y))\n",
    "\n",
    "        # add sum to row dict\n",
    "        row_dict[row_num] = str(abs(row_sum))[-1]\n",
    "        \n",
    "    for row_num in range(math.ceil((num_rows+1)/2), num_rows+1):\n",
    "\n",
    "        # second half we can just sum the values in list up to that point\n",
    "        row_dict[row_num] = str(abs(sum(input_list[row_num-1:])))[-1]\n",
    "        \n",
    "        \n",
    "    input_signal = ''.join([val for val in row_dict.values()])\n",
    "    phase_dict[phase] = temp_dict\n",
    "    \n",
    "    print(f'Phase {phase} output signal first 8 digits is: {input_signal} ')\n",
    "    phase +=1 # increment by 1"
   ]
  },
  {
   "cell_type": "code",
   "execution_count": null,
   "metadata": {},
   "outputs": [],
   "source": []
  }
 ],
 "metadata": {
  "kernelspec": {
   "display_name": "Python 3",
   "language": "python",
   "name": "python3"
  },
  "language_info": {
   "codemirror_mode": {
    "name": "ipython",
    "version": 3
   },
   "file_extension": ".py",
   "mimetype": "text/x-python",
   "name": "python",
   "nbconvert_exporter": "python",
   "pygments_lexer": "ipython3",
   "version": "3.6.5"
  }
 },
 "nbformat": 4,
 "nbformat_minor": 2
}
