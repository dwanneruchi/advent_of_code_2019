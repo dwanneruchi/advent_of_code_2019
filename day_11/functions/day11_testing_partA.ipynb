{
 "cells": [
  {
   "cell_type": "code",
   "execution_count": 1,
   "metadata": {},
   "outputs": [],
   "source": [
    "from intCode import *"
   ]
  },
  {
   "cell_type": "markdown",
   "metadata": {},
   "source": [
    "#### Updates: \n",
    "\n",
    "- Need to take input based on painting to move robot around\n",
    "\n",
    "- 1st output from intcode program is the color to pain \n",
    "- 2nd output from intcode program is directioN:\n",
    "    - This is tricky, but going to use %4 for this:\n",
    "\n",
    "- Input to intcode: \n",
    "    - provide 1 if on white panel, 0 if on black\n",
    "    \n",
    "    \n",
    "##### Int Code Function Changes:\n",
    "\n",
    "- Need to revert to a function that outputs @ step 4, and can just pass in an input value \n",
    "- Added input value rather than user input prompt"
   ]
  },
  {
   "cell_type": "code",
   "execution_count": 2,
   "metadata": {},
   "outputs": [],
   "source": [
    "def paint_funct(input_val):\n",
    "    \"\"\"Func to determine paint color\"\"\"\n",
    "    if input_val == 0:\n",
    "        return 'BLACK'\n",
    "    else:\n",
    "        return 'WHITE'"
   ]
  },
  {
   "cell_type": "code",
   "execution_count": 43,
   "metadata": {},
   "outputs": [],
   "source": [
    "def direction_funct(direction, coords):\n",
    "    \"\"\"Func for direction robot should turn\"\"\"\n",
    "    \n",
    "    # up\n",
    "    if direction == 0:\n",
    "        coords =  (coords[0], coords[1] + 1)\n",
    "    \n",
    "    # right\n",
    "    elif direction == 1:\n",
    "        coords =  (coords[0] + 1, coords[1])\n",
    "    \n",
    "    # down\n",
    "    elif direction == 2:\n",
    "        coords =  (coords[0], coords[1]-1)\n",
    "    \n",
    "    # left\n",
    "    else:\n",
    "        coords = (coords[0] - 1, coords[1])\n",
    "        \n",
    "    return coords"
   ]
  },
  {
   "cell_type": "code",
   "execution_count": 44,
   "metadata": {},
   "outputs": [],
   "source": [
    "def robot_paint(paint_color):\n",
    "    \n",
    "    if paint_color == 'BLACK':\n",
    "        return 0\n",
    "    else:\n",
    "        return 1"
   ]
  },
  {
   "cell_type": "code",
   "execution_count": 70,
   "metadata": {},
   "outputs": [
    {
     "name": "stdout",
     "output_type": "stream",
     "text": [
      "I am at: (1, 0)\n",
      "I am at: (1, -1)\n",
      "I am at: (0, -1)\n"
     ]
    }
   ],
   "source": [
    "# lets say we started up: 0\n",
    "direction = 0\n",
    "\n",
    "coords = (0,0)\n",
    "\n",
    "# robot sends back a 1, meaning rotate right 90 degrees ( we should be going right)\n",
    "direction += 1\n",
    "\n",
    "# we now run the modulus\n",
    "modulo = direction % 4\n",
    "\n",
    "# we should move from 0,0 to 1, 0\n",
    "coords = direction_funct(modulo, coords)\n",
    "print(f\"I am at: {coords}\")\n",
    "      \n",
    "# robot sends back a 1, meaning rotate right 90 degrees ( we should be going down now)\n",
    "direction += 1\n",
    "\n",
    "# we now run the modulus\n",
    "modulo = direction % 4\n",
    "\n",
    "# we should move from 1,0 -> 1, -1\n",
    "coords = direction_funct(modulo, coords)\n",
    "print(f\"I am at: {coords}\")\n",
    "\n",
    "# robot sends back a 1, meaning rotate right 90 degrees ( we should be going left now)\n",
    "direction += 1\n",
    "\n",
    "# we now run the modulus\n",
    "modulo = direction % 4\n",
    "\n",
    "# we should move from 1,-1 -> 0, -1\n",
    "coords = direction_funct(modulo, coords)\n",
    "print(f\"I am at: {coords}\")"
   ]
  },
  {
   "cell_type": "code",
   "execution_count": 72,
   "metadata": {},
   "outputs": [
    {
     "name": "stdout",
     "output_type": "stream",
     "text": [
      "I am at: (-1, 0)\n",
      "I am at: (-1, -1)\n"
     ]
    }
   ],
   "source": [
    "# lets say we started up: 0\n",
    "direction = 0\n",
    "\n",
    "coords = (0,0)\n",
    "\n",
    "# robot sends back a 0, meaning rotate left 90 degrees ( we should be going left)\n",
    "direction -= 1\n",
    "\n",
    "# we now run the modulus\n",
    "modulo = direction % 4\n",
    "\n",
    "# we should move from 0,0 to -1,0\n",
    "coords = direction_funct(modulo, coords)\n",
    "print(f\"I am at: {coords}\")\n",
    "      \n",
    "# robot sends back a 0, going down now\n",
    "direction -= 1\n",
    "\n",
    "# we now run the modulus\n",
    "modulo = direction % 4\n",
    "\n",
    "# we should move from -1,0 to -1,-1\n",
    "coords = direction_funct(modulo, coords)\n",
    "print(f\"I am at: {coords}\")\n"
   ]
  },
  {
   "cell_type": "code",
   "execution_count": 67,
   "metadata": {},
   "outputs": [
    {
     "name": "stdout",
     "output_type": "stream",
     "text": [
      "-1\n",
      "3\n",
      "-2\n",
      "2\n"
     ]
    }
   ],
   "source": [
    "direction = 0\n",
    "direction -= 1\n",
    "modulo = direction % 4\n",
    "print(direction)\n",
    "print(modulo)\n",
    "direction -= 1\n",
    "modulo = direction % 4\n",
    "print(direction)\n",
    "print(modulo)"
   ]
  },
  {
   "cell_type": "code",
   "execution_count": 66,
   "metadata": {},
   "outputs": [
    {
     "name": "stdout",
     "output_type": "stream",
     "text": [
      "1\n",
      "1\n"
     ]
    }
   ],
   "source": [
    "direction = 0\n",
    "direction += 1\n",
    "modulo = direction % 4\n",
    "print(direction)\n",
    "print(modulo)"
   ]
  },
  {
   "cell_type": "markdown",
   "metadata": {},
   "source": [
    "#### Trying a Run:"
   ]
  },
  {
   "cell_type": "code",
   "execution_count": 80,
   "metadata": {},
   "outputs": [],
   "source": [
    "# empty list\n",
    "data_list = []\n",
    "\n",
    "# need to ensure a clean run each time \n",
    "with open('day11_data.txt') as f:\n",
    "    for line in f:\n",
    "        data_list.append(line.split(','))\n",
    "\n",
    "# convert to ints\n",
    "clean_d_list = [int(x) for x in data_list[0]]\n",
    "\n",
    "# adding range\n",
    "extra_list = [x for x in range(1000000)]\n",
    "\n",
    "day_11_data = clean_d_list + extra_list"
   ]
  },
  {
   "cell_type": "code",
   "execution_count": 81,
   "metadata": {},
   "outputs": [],
   "source": [
    "# store coordinates that are painted - then we can take distinct values \n",
    "dict_results = {}"
   ]
  },
  {
   "cell_type": "code",
   "execution_count": 82,
   "metadata": {},
   "outputs": [],
   "source": [
    "# initial intermed_dict vals\n",
    "intermed_dict = {}\n",
    "intermed_dict['list'] = day_11_data\n",
    "intermed_dict['init_val'] = 0\n",
    "intermed_dict['rel_base'] = 0\n",
    "intermed_dict['robo_input'] = 0"
   ]
  },
  {
   "cell_type": "code",
   "execution_count": 83,
   "metadata": {},
   "outputs": [],
   "source": [
    "robot_pos = (0,0) # start at 0 \n",
    "direction = 0 # up"
   ]
  },
  {
   "cell_type": "code",
   "execution_count": 84,
   "metadata": {},
   "outputs": [],
   "source": [
    "i = 1\n",
    "\n",
    "while True:\n",
    "    \n",
    "    # run process, updating \n",
    "    intermed_dict = intcode_pc(list_vals = intermed_dict['list'], init_val = intermed_dict['init_val'], rel_base=intermed_dict['rel_base'] , input_val = intermed_dict['robo_input'])\n",
    "    \n",
    "    # Find our stopping point \n",
    "    if intermed_dict['robo_output'] == 'FINISHED':\n",
    "        break\n",
    "        \n",
    "    # if i %2 == 1, then odd number meaning we are on the color to paint panel\n",
    "    if i %2 == 1:\n",
    "        \n",
    "        # type of paint\n",
    "        paint_color = paint_funct(input_val = intermed_dict['robo_output'])\n",
    "        \n",
    "        # change coord to specific color --> the only time we add to dict_results is when painting occurs\n",
    "        dict_results[robot_pos] = paint_color\n",
    "        \n",
    "        # send back proper input\n",
    "        intermed_dict['robo_input'] = robot_paint(dict_results[robot_pos])\n",
    "        \n",
    "        # update\n",
    "        i+= 1\n",
    "        \n",
    "    # Otherwise its the second command, this tells our robot how to move. \n",
    "    else:\n",
    "        \n",
    "        if intermed_dict['robo_output'] == 1:\n",
    "            direction += 1 \n",
    "        else:\n",
    "            direction -= 1 \n",
    "\n",
    "        # we now capture the modulus\n",
    "        modulo = direction % 4\n",
    "\n",
    "        # update robot position\n",
    "        robot_pos = direction_funct(modulo, robot_pos)\n",
    "        \n",
    "        # add coords to dict; assume black if no other color\n",
    "        if robot_pos in dict_results.keys():\n",
    "            color_pos = dict_results[robot_pos]\n",
    "        \n",
    "        else:\n",
    "            color_pos = \"BLACK\"\n",
    "        \n",
    "        # Finally, this step will need to pass a true input\n",
    "        intermed_dict['robo_input'] = robot_paint(color_pos)\n",
    "    \n",
    "        # update i\n",
    "        i += 1"
   ]
  },
  {
   "cell_type": "code",
   "execution_count": 85,
   "metadata": {},
   "outputs": [
    {
     "data": {
      "text/plain": [
       "20"
      ]
     },
     "execution_count": 85,
     "metadata": {},
     "output_type": "execute_result"
    }
   ],
   "source": [
    "len(dict_results.keys())"
   ]
  },
  {
   "cell_type": "code",
   "execution_count": 86,
   "metadata": {},
   "outputs": [
    {
     "data": {
      "text/plain": [
       "{(0, 0): 'BLACK',\n",
       " (-1, 0): 'WHITE',\n",
       " (-1, -1): 'BLACK',\n",
       " (-2, -1): 'WHITE',\n",
       " (-2, 0): 'WHITE',\n",
       " (0, -1): 'WHITE',\n",
       " (1, 0): 'BLACK',\n",
       " (1, 1): 'BLACK',\n",
       " (0, 1): 'BLACK',\n",
       " (0, 2): 'BLACK',\n",
       " (1, 2): 'BLACK',\n",
       " (2, 1): 'WHITE',\n",
       " (2, 2): 'WHITE',\n",
       " (2, 0): 'BLACK',\n",
       " (-1, 2): 'BLACK',\n",
       " (-1, 3): 'WHITE',\n",
       " (0, 3): 'BLACK',\n",
       " (-2, 3): 'BLACK',\n",
       " (-2, 4): 'WHITE',\n",
       " (-1, 4): 'WHITE'}"
      ]
     },
     "execution_count": 86,
     "metadata": {},
     "output_type": "execute_result"
    }
   ],
   "source": [
    "dict_results"
   ]
  },
  {
   "cell_type": "code",
   "execution_count": null,
   "metadata": {},
   "outputs": [],
   "source": []
  }
 ],
 "metadata": {
  "kernelspec": {
   "display_name": "Python 3",
   "language": "python",
   "name": "python3"
  },
  "language_info": {
   "codemirror_mode": {
    "name": "ipython",
    "version": 3
   },
   "file_extension": ".py",
   "mimetype": "text/x-python",
   "name": "python",
   "nbconvert_exporter": "python",
   "pygments_lexer": "ipython3",
   "version": "3.6.5"
  }
 },
 "nbformat": 4,
 "nbformat_minor": 2
}
